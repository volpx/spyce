{
 "cells": [
  {
   "cell_type": "markdown",
   "metadata": {},
   "source": [
    "Simulator for boost charger"
   ]
  },
  {
   "cell_type": "code",
   "execution_count": 52,
   "metadata": {},
   "outputs": [],
   "source": [
    "import numpy as np\n",
    "import matplotlib.pyplot as plt\n",
    "import pandas as pd\n",
    "import ngspicelib\n",
    "\n",
    "%qtconsole"
   ]
  },
  {
   "cell_type": "code",
   "execution_count": 53,
   "metadata": {},
   "outputs": [],
   "source": [
    "namet='boost{}'\n",
    "\n",
    "rdrain=10\n",
    "rgen=1\n",
    "l_v=np.geomspace(10e-6,1000e-6,100)\n",
    "voutmax=np.empty(l_v.size)"
   ]
  },
  {
   "cell_type": "code",
   "execution_count": 54,
   "metadata": {},
   "outputs": [
    {
     "name": "stdout",
     "output_type": "stream",
     "text": [
      "Run 0 stdout: None\n",
      "Run 1 stdout: None\n",
      "Run 2 stdout: None\n",
      "Run 3 stdout: None\n",
      "Run 4 stdout: None\n",
      "Run 5 stdout: None\n",
      "Run 6 stdout: None\n",
      "Run 7 stdout: None\n",
      "Run 8 stdout: None\n",
      "Run 9 stdout: None\n",
      "Run 10 stdout: None\n",
      "Run 11 stdout: None\n",
      "Run 12 stdout: None\n",
      "Run 13 stdout: None\n",
      "Run 14 stdout: None\n",
      "Run 15 stdout: None\n",
      "Run 16 stdout: None\n",
      "Run 17 stdout: None\n",
      "Run 18 stdout: None\n",
      "Run 19 stdout: None\n",
      "Run 20 stdout: None\n",
      "Run 21 stdout: None\n",
      "Run 22 stdout: None\n",
      "Run 23 stdout: None\n",
      "Run 24 stdout: None\n",
      "Run 25 stdout: None\n",
      "Run 26 stdout: None\n",
      "Run 27 stdout: None\n",
      "Run 28 stdout: None\n",
      "Run 29 stdout: None\n",
      "Run 30 stdout: None\n",
      "Run 31 stdout: None\n",
      "Run 32 stdout: None\n",
      "Run 33 stdout: None\n",
      "Run 34 stdout: None\n",
      "Run 35 stdout: None\n",
      "Run 36 stdout: None\n",
      "Run 37 stdout: None\n",
      "Run 38 stdout: None\n",
      "Run 39 stdout: None\n",
      "Run 40 stdout: None\n",
      "Run 41 stdout: None\n",
      "Run 42 stdout: None\n",
      "Run 43 stdout: None\n",
      "Run 44 stdout: None\n",
      "Run 45 stdout: None\n",
      "Run 46 stdout: None\n",
      "Run 47 stdout: None\n",
      "Run 48 stdout: None\n",
      "Run 49 stdout: None\n",
      "Run 50 stdout: None\n",
      "Run 51 stdout: None\n",
      "Run 52 stdout: None\n",
      "Run 53 stdout: None\n",
      "Run 54 stdout: None\n",
      "Run 55 stdout: None\n",
      "Run 56 stdout: None\n",
      "Run 57 stdout: None\n",
      "Run 58 stdout: None\n",
      "Run 59 stdout: None\n",
      "Run 60 stdout: None\n",
      "Run 61 stdout: None\n",
      "Run 62 stdout: None\n",
      "Run 63 stdout: None\n",
      "Run 64 stdout: None\n",
      "Run 65 stdout: None\n",
      "Run 66 stdout: None\n",
      "Run 67 stdout: None\n",
      "Run 68 stdout: None\n",
      "Run 69 stdout: None\n",
      "Run 70 stdout: None\n",
      "Run 71 stdout: None\n",
      "Run 72 stdout: None\n",
      "Run 73 stdout: None\n",
      "Run 74 stdout: None\n",
      "Run 75 stdout: None\n",
      "Run 76 stdout: None\n",
      "Run 77 stdout: None\n",
      "Run 78 stdout: None\n",
      "Run 79 stdout: None\n",
      "Run 80 stdout: None\n",
      "Run 81 stdout: None\n",
      "Run 82 stdout: None\n",
      "Run 83 stdout: None\n",
      "Run 84 stdout: None\n",
      "Run 85 stdout: None\n",
      "Run 86 stdout: None\n",
      "Run 87 stdout: None\n",
      "Run 88 stdout: None\n",
      "Run 89 stdout: None\n",
      "Run 90 stdout: None\n",
      "Run 91 stdout: None\n",
      "Run 92 stdout: None\n",
      "Run 93 stdout: None\n",
      "Run 94 stdout: None\n",
      "Run 95 stdout: None\n",
      "Run 96 stdout: None\n",
      "Run 97 stdout: None\n",
      "Run 98 stdout: None\n",
      "Run 99 stdout: None\n"
     ]
    }
   ],
   "source": [
    "for i in range(l_v.size):\n",
    "    cirnamefile='data/'+namet.format(i)+'.cir'\n",
    "    outnamefile='data/'+'out'+namet.format(i)+'.csv'\n",
    "    \n",
    "    l=l_v[i]\n",
    "    tau=l/(rdrain+rgen)\n",
    "    ton=2*tau\n",
    "    tpulse=ton*1.1\n",
    "    tsim=500e-6\n",
    "    stepsim=tsim/10000\n",
    "    \n",
    "    cir=ngspicelib.Circuit(filename=cirnamefile,title='boost')\n",
    "    cir.comment('####Import models####')\n",
    "    cir.include('../models/diodes.mod')\n",
    "    cir.include('../models/mos.mod')\n",
    "    cir.comment('####CIRCUIT####')\n",
    "    cir.comment('Input voltage with intrinsic resistence')\n",
    "    cir.raw_write('vin gen 0 dc 3.3v')\n",
    "    cir.raw_write('rgen gen in {}'.format(rgen))\n",
    "    cir.raw_write('c1 in 0 10u')\n",
    "    cir.raw_write('l1 in drain_ext {}'.format(str(l)))\n",
    "    cir.raw_write('rdrain drain_ext drain {}'.format(rdrain))\n",
    "    cir.x(p=['drain', 'gate', '0', '100'],subckt='mos_model1',name='nmos')\n",
    "    cir.raw_write('rgate gate switch 10')\n",
    "    cir.raw_write('dsch drain out schoideal')\n",
    "    cir.raw_write('c2 out 0 10n')\n",
    "    cir.raw_write('rl out 0 100k')\n",
    "    cir.source('switch','0','pulse (0 3.3 0 0 0 {ton} {tpulse})'.format(ton=ton,tpulse=tpulse),name='switch')\n",
    "    cir.sim_trans(stepsim,tsim)\n",
    "\n",
    "    cir.begin_control()\n",
    "    cir.run_control()\n",
    "    cir.save(outnamefile,'in','out','switch','gate','drain','l1#branch')\n",
    "    cir.end_control()\n",
    "    \n",
    "    print('Run',i,'stdout:',cir.run())\n",
    "    \n",
    "    df=pd.read_csv(outnamefile,header=0,delim_whitespace=True)\n",
    "    voutmax=np.max(df['v(out)'])"
   ]
  },
  {
   "cell_type": "code",
   "execution_count": 56,
   "metadata": {},
   "outputs": [
    {
     "data": {
      "text/plain": [
       "<ErrorbarContainer object of 3 artists>"
      ]
     },
     "execution_count": 56,
     "metadata": {},
     "output_type": "execute_result"
    },
    {
     "data": {
      "image/png": "[encoded data removed]",
      "text/plain": [
       "<Figure size 432x288 with 1 Axes>"
      ]
     },
     "metadata": {
      "needs_background": "light"
     },
     "output_type": "display_data"
    }
   ],
   "source": [
    "plt.errorbar(x=l_v,y=voutmax)"
   ]
  },
  {
   "cell_type": "code",
   "execution_count": null,
   "metadata": {},
   "outputs": [],
   "source": []
  }
 ],
 "metadata": {
  "kernelspec": {
   "display_name": "Python 3",
   "language": "python",
   "name": "python3"
  },
  "language_info": {
   "codemirror_mode": {
    "name": "ipython",
    "version": 3
   },
   "file_extension": ".py",
   "mimetype": "text/x-python",
   "name": "python",
   "nbconvert_exporter": "python",
   "pygments_lexer": "ipython3",
   "version": "3.7.3"
  }
 },
 "nbformat": 4,
 "nbformat_minor": 2
}
